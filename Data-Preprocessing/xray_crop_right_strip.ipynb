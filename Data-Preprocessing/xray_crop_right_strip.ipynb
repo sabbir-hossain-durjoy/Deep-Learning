{
 "cells": [
  {
   "cell_type": "code",
   "execution_count": null,
   "id": "e5b381aa",
   "metadata": {},
   "outputs": [],
   "source": [
    "import os\n",
    "import cv2\n",
    "import pathlib\n",
    "from tqdm import tqdm\n",
    "\n",
    "def crop_right_strip_folder(input_dir, output_dir, strip_ratio=0.18, exts=(\".png\",\".jpg\",\".jpeg\",\".tif\",\".tiff\")):\n",
    "    \"\"\"\n",
    "    Batch crop a vertical strip from the right side of all images in input_dir and save to output_dir.\n",
    "\n",
    "    Args:\n",
    "        input_dir (str): Root folder with raw images (can have subfolders).\n",
    "        output_dir (str): Folder where cropped images will be saved (subfolder structure preserved).\n",
    "        strip_ratio (float): Proportion of image width to remove from right side.\n",
    "        exts (tuple): Allowed image extensions.\n",
    "    \"\"\"\n",
    "    input_dir = pathlib.Path(input_dir)\n",
    "    output_dir = pathlib.Path(output_dir)\n",
    "\n",
    "    files = [p for p in input_dir.rglob(\"*\") if p.suffix.lower() in exts]\n",
    "\n",
    "    for path in tqdm(files, desc=\"Cropping images\"):\n",
    "        rel = path.relative_to(input_dir)\n",
    "        out_path = output_dir / rel\n",
    "        out_path.parent.mkdir(parents=True, exist_ok=True)\n",
    "\n",
    "        img = cv2.imread(str(path))\n",
    "        if img is None:\n",
    "            print(f\"[WARN] Skipping unreadable: {path}\")\n",
    "            continue\n",
    "\n",
    "        h, w = img.shape[:2]\n",
    "        crop_w = int(w * (1 - strip_ratio))\n",
    "        cropped = img[:, :crop_w]\n",
    "\n",
    "        cv2.imwrite(str(out_path), cropped)\n",
    "\n",
    "    print(f\"\\n✅ Done! Cropped {len(files)} images → {output_dir}\")\n",
    "\n",
    "\n",
    "from google.colab import drive\n",
    "drive.mount('/content/drive')\n",
    "\n",
    "input_dir  = \"path\"\n",
    "output_dir = \"path\"\n",
    "\n",
    "crop_right_strip_folder(input_dir, output_dir, strip_ratio=0.10)\n"
   ]
  }
 ],
 "metadata": {
  "language_info": {
   "name": "python"
  }
 },
 "nbformat": 4,
 "nbformat_minor": 5
}
