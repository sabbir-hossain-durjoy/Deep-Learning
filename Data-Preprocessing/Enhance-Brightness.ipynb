{
 "cells": [
  {
   "cell_type": "code",
   "execution_count": null,
   "metadata": {
    "vscode": {
     "languageId": "plaintext"
    }
   },
   "outputs": [],
   "source": [
    "from PIL import Image, ImageEnhance\n",
    "import os\n",
    "import io\n",
    "from rembg import remove\n",
    "from google.colab import drive\n",
    "\n",
    "drive.mount('/content/drive', force_remount=True)\n",
    "\n",
    "dataset_dir = 'path'\n",
    "output_dir = 'path'\n",
    "target_size = (3000, 3000)\n",
    "\n",
    "def remove_bg_white_resize_brightness(image_path, factor=1.2):\n",
    "    with Image.open(image_path).convert('RGBA') as img:\n",
    "        img_bytes = io.BytesIO()\n",
    "        img.save(img_bytes, format=\"PNG\")\n",
    "        img_bytes = img_bytes.getvalue()\n",
    "        output_data = remove(img_bytes)\n",
    "        result_image = Image.open(io.BytesIO(output_data)).convert('RGBA')\n",
    "        white_bg = Image.new(\"RGBA\", result_image.size, (255, 255, 255, 255))\n",
    "        white_bg.paste(result_image, mask=result_image.split()[3])\n",
    "        white_bg = white_bg.resize(target_size, Image.Resampling.LANCZOS)\n",
    "        rgb_img = white_bg.convert(\"RGB\")\n",
    "        enhancer = ImageEnhance.Brightness(rgb_img)\n",
    "        enhanced = enhancer.enhance(factor)\n",
    "        return enhanced\n",
    "\n",
    "def process_dataset(dataset_dir, output_dir, factor=1.2):\n",
    "    if not os.path.exists(output_dir):\n",
    "        os.makedirs(output_dir)\n",
    "\n",
    "    for class_name in os.listdir(dataset_dir):\n",
    "        class_folder = os.path.join(dataset_dir, class_name)\n",
    "        if os.path.isdir(class_folder):\n",
    "            output_class_folder = os.path.join(output_dir, class_name)\n",
    "            os.makedirs(output_class_folder, exist_ok=True)\n",
    "            for filename in os.listdir(class_folder):\n",
    "                if filename.lower().endswith(('.png', '.jpg', '.jpeg')):\n",
    "                    image_path = os.path.join(class_folder, filename)\n",
    "                    processed_image = remove_bg_white_resize_brightness(image_path, factor)\n",
    "                    output_path = os.path.join(output_class_folder, f\"{os.path.splitext(filename)[0]}.jpg\")\n",
    "                    processed_image.save(output_path, \"JPEG\")\n",
    "                    print(f\"✅ Saved: {output_path}\")\n",
    "\n",
    "process_dataset(dataset_dir, output_dir, factor=1.2)\n"
   ]
  }
 ],
 "metadata": {
  "language_info": {
   "name": "python"
  }
 },
 "nbformat": 4,
 "nbformat_minor": 5
}
