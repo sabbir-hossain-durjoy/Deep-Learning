{
 "cells": [
  {
   "cell_type": "code",
   "execution_count": null,
   "id": "5f0278b1",
   "metadata": {},
   "outputs": [],
   "source": [
    "# Install rembg first\n",
    "!pip install rembg pillow onnxruntime\n",
    "\n",
    "import os\n",
    "import io\n",
    "from PIL import Image\n",
    "from rembg import remove\n",
    "from google.colab import drive\n",
    "\n",
    "drive.mount('/content/drive', force_remount=True)\n",
    "\n",
    "dataset_dir = 'path'\n",
    "output_dir = 'path'\n",
    "os.makedirs(output_dir, exist_ok=True)\n",
    "\n",
    "target_size = (3000, 3000)\n",
    "\n",
    "def process_image(input_path, output_path):\n",
    "    try:\n",
    "        with Image.open(input_path).convert('RGBA') as img:\n",
    "            img_bytes = io.BytesIO()\n",
    "            img.save(img_bytes, format=\"PNG\")\n",
    "            img_bytes = img_bytes.getvalue()\n",
    "            output_data = remove(img_bytes)\n",
    "            result_image = Image.open(io.BytesIO(output_data)).convert('RGBA')\n",
    "            white_bg = Image.new(\"RGBA\", result_image.size, (255, 255, 255, 255))\n",
    "            white_bg.paste(result_image, mask=result_image.split()[3])\n",
    "            white_bg = white_bg.resize(target_size, Image.Resampling.LANCZOS)\n",
    "            white_bg.convert(\"RGB\").save(output_path, \"JPEG\")\n",
    "        print(f\" Processed: {os.path.basename(input_path)}\")\n",
    "    except Exception as e:\n",
    "        print(f\" Error processing {os.path.basename(input_path)}: {e}\")\n",
    "\n",
    "for root, _, files in os.walk(dataset_dir):\n",
    "    for filename in files:\n",
    "        if filename.lower().endswith(('.png', '.jpg', '.jpeg')):\n",
    "            input_path = os.path.join(root, filename)\n",
    "            rel_path = os.path.relpath(input_path, dataset_dir)\n",
    "            save_dir = os.path.join(output_dir, os.path.dirname(rel_path))\n",
    "            os.makedirs(save_dir, exist_ok=True)\n",
    "            output_path = os.path.join(save_dir, f\"{os.path.splitext(filename)[0]}.jpg\")\n",
    "            process_image(input_path, output_path)\n",
    "\n",
    "print(\" All images processed successfully!\")\n"
   ]
  }
 ],
 "metadata": {
  "language_info": {
   "name": "python"
  }
 },
 "nbformat": 4,
 "nbformat_minor": 5
}
